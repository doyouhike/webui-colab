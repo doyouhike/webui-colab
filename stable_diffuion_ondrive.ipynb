{
  "nbformat": 4,
  "nbformat_minor": 0,
  "metadata": {
    "colab": {
      "provenance": [],
      "mount_file_id": "15ow2r1zDTO2qFGtEdnsY-RcQhBU99vix",
      "authorship_tag": "ABX9TyMZq+gm9oVwTa/ioHa3VK1A",
      "include_colab_link": true
    },
    "kernelspec": {
      "name": "python3",
      "display_name": "Python 3"
    },
    "language_info": {
      "name": "python"
    },
    "accelerator": "GPU",
    "gpuClass": "standard"
  },
  "cells": [
    {
      "cell_type": "markdown",
      "metadata": {
        "id": "view-in-github",
        "colab_type": "text"
      },
      "source": [
        "<a href=\"https://colab.research.google.com/github/doyouhike/webui-colab/blob/main/stable_diffuion_ondrive.ipynb\" target=\"_parent\"><img src=\"https://colab.research.google.com/assets/colab-badge.svg\" alt=\"Open In Colab\"/></a>"
      ]
    },
    {
      "cell_type": "code",
      "execution_count": 3,
      "metadata": {
        "colab": {
          "base_uri": "https://localhost:8080/"
        },
        "id": "bBXxRkjmcznY",
        "outputId": "d9b3727c-3886-4724-aad1-53b44b13a2d7"
      },
      "outputs": [
        {
          "output_type": "stream",
          "name": "stdout",
          "text": [
            "/content/drive/MyDrive/stable-diffusion-webui\n",
            "/bin/bash: virtualenv: command not found\n",
            "/bin/bash: /content/webui/venv/bin/activate: No such file or directory\n"
          ]
        }
      ],
      "source": [
        "#!ln -s /content/drive/MyDrive/stable-diffusion-webui /content/webui\n",
        "%cd /content/webui\n",
        "!virtualenv venv\n",
        "!source /content/webui/venv/bin/activate;"
      ]
    }
  ]
}