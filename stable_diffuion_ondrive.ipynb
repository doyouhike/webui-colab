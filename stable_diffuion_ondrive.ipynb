{
  "nbformat": 4,
  "nbformat_minor": 0,
  "metadata": {
    "colab": {
      "provenance": [],
      "private_outputs": true,
      "mount_file_id": "15ow2r1zDTO2qFGtEdnsY-RcQhBU99vix",
      "authorship_tag": "ABX9TyMZq+gm9oVwTa/ioHa3VK1A",
      "include_colab_link": true
    },
    "kernelspec": {
      "name": "python3",
      "display_name": "Python 3"
    },
    "language_info": {
      "name": "python",
      "version": "3.9.6"
    },
    "accelerator": "GPU",
    "gpuClass": "standard"
  },
  "cells": [
    {
      "cell_type": "markdown",
      "metadata": {
        "id": "view-in-github",
        "colab_type": "text"
      },
      "source": [
        "<a href=\"https://colab.research.google.com/github/doyouhike/webui-colab/blob/main/stable_diffuion_ondrive.ipynb\" target=\"_parent\"><img src=\"https://colab.research.google.com/assets/colab-badge.svg\" alt=\"Open In Colab\"/></a>"
      ]
    },
    {
      "cell_type": "code",
      "execution_count": null,
      "metadata": {},
      "outputs": [],
      "source": [
        "#!ln -s /content/drive/MyDrive/stable-diffusion-webui /content/webui\n",
        "%cd /content/webui\n",
        "!virtualenv venv\n",
        "!source /content/webui/venv/bin/activate;"
      ]
    }
  ]
}
